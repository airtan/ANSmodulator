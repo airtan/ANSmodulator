{
 "cells": [
  {
   "cell_type": "code",
   "execution_count": null,
   "metadata": {},
   "outputs": [],
   "source": [
    "import numpy as np\n",
    "from scipy import integrate\n",
    "import matplotlib.pyplot as plt\n",
    "import serial\n",
    "\n",
    "# Create object serial port\n",
    "portName = \"COM5\"                      # replace this port name by yours!\n",
    "baudrate = 115200\n",
    "ser = serial.Serial(portName,baudrate)\n",
    "\n",
    "# x = np.linspace(1.5, 2)\n",
    "# y = x**4\n",
    "\n",
    "x = np.linspace(0, 0.4,2048)\n",
    "y = d[2048:4096]"
   ]
  },
  {
   "cell_type": "code",
   "execution_count": 7,
   "metadata": {},
   "outputs": [],
   "source": [
    "# -*- coding: utf-8 -*-\n",
    "import sys\n",
    "import numpy as np\n",
    "from scipy import arange, fft, fromstring, roll, zeros\n",
    "\n",
    "import pyqtgraph as pg\n",
    "from pyqtgraph.Qt import QtGui, QtCore\n",
    "\n",
    "fftLen = 2048\n",
    "shift = 100\n",
    "signal_scale = 1. / 2000\n",
    "\n",
    "capture_setting = {\n",
    "    \"ch\" : 1,\n",
    "    \"fs\" : 16000,\n",
    "    \"chunk\" : shift\n",
    "    }\n",
    "\n",
    "def spectrumAnalyzer():\n",
    "    global fftLen, capture_setting, signal_scale\n",
    "    # ========================\n",
    "    #  Capture Sound from Mic\n",
    "    # ========================\n",
    "    ch = capture_setting[\"ch\"]\n",
    "    fs = capture_setting[\"fs\"]\n",
    "    chunk = capture_setting[\"chunk\"]\n",
    "\n",
    "    ### FFT する信号\n",
    "    signal = np.zeros(fftLen, dtype = float)\n",
    "\n",
    "    # ========\n",
    "    #  Layout\n",
    "    # ========\n",
    "\n",
    "    ### アプリケーション作成\n",
    "    app = QtGui.QApplication([])\n",
    "    app.quitOnLastWindowClosed()\n",
    "    ### メインウィンドウ\n",
    "    mainWindow = QtGui.QMainWindow()\n",
    "    mainWindow.setWindowTitle(\"Spectrum Analyzer\") # Title\n",
    "    mainWindow.resize(800, 300) # Size\n",
    "    ### キャンパス\n",
    "    centralWid = QtGui.QWidget()\n",
    "    mainWindow.setCentralWidget(centralWid)\n",
    "    ### レイアウト！！\n",
    "    lay = QtGui.QVBoxLayout()\n",
    "    centralWid.setLayout(lay)\n",
    "    \n",
    "    ### スペクトル表示用ウィジット\n",
    "    specWid = pg.PlotWidget(name=\"spectrum\")\n",
    "    specItem = specWid.getPlotItem()\n",
    "    specItem.setMouseEnabled(y = False) # y軸方向に動かせなくする\n",
    "    specItem.setYRange(0, 1000)\n",
    "    specItem.setXRange(0, fftLen / 2, padding = 0)\n",
    "    ### Axis\n",
    "    specAxis = specItem.getAxis(\"bottom\")\n",
    "    specAxis.setLabel(\"Frequency [Hz]\")\n",
    "    specAxis.setScale(fs / 2. / (fftLen / 2 + 1))\n",
    "    hz_interval = 500\n",
    "    newXAxis = (np.arange(int(fs / 2 / hz_interval)) + 1) * hz_interval\n",
    "    oriXAxis = newXAxis / (fs / 2. / (fftLen / 2 + 1))\n",
    "    specAxis.setTicks([zip(oriXAxis, newXAxis)])\n",
    "    ### キャンパスにのせる\n",
    "    lay.addWidget(specWid)\n",
    "    \n",
    "    ### ウィンドウ表示\n",
    "    mainWindow.show()\n",
    "    \n",
    "    ### Update\n",
    "    while 1:\n",
    "        length, data = inPCM.read()\n",
    "        num_data = fromstring(data, dtype = \"int16\")\n",
    "        signal = roll(signal, - chunk)\n",
    "        signal[- chunk :] = num_data\n",
    "        fftspec = fft(signal)\n",
    "        specItem.plot(abs(fftspec[1 : fftLen / 2 + 1] * signal_scale), clear = True)\n",
    "        QtGui.QApplication.processEvents()\n",
    "    \n",
    "    \n",
    "if __name__ == \"__main__\":\n",
    "    spectrumAnalyzer()"
   ]
  },
  {
   "cell_type": "code",
   "execution_count": 14,
   "metadata": {},
   "outputs": [],
   "source": [
    "ddd = np.array([[0,1,2,3,4,5,6,7,8,9,], [\"a\",\"b\",\"c\",\"d\",\"e\",\"f\",\"g\",\"h\",\"i\",\"j\"]])"
   ]
  },
  {
   "cell_type": "code",
   "execution_count": 15,
   "metadata": {},
   "outputs": [
    {
     "name": "stdout",
     "output_type": "stream",
     "text": [
      "[['0' '1' '2' '3' '4' '5' '6' '7' '8' '9']\n",
      " ['a' 'b' 'c' 'd' 'e' 'f' 'g' 'h' 'i' 'j']]\n"
     ]
    }
   ],
   "source": [
    "print(ddd)"
   ]
  },
  {
   "cell_type": "code",
   "execution_count": 19,
   "metadata": {},
   "outputs": [
    {
     "name": "stdout",
     "output_type": "stream",
     "text": [
      "['a' 'b' 'c' 'd' 'e' 'f' 'g' 'h' 'i' 'j']\n"
     ]
    }
   ],
   "source": [
    "print(ddd[1])"
   ]
  },
  {
   "cell_type": "code",
   "execution_count": 12,
   "metadata": {},
   "outputs": [],
   "source": [
    "ddd = ddd[10:]"
   ]
  },
  {
   "cell_type": "code",
   "execution_count": 13,
   "metadata": {},
   "outputs": [
    {
     "name": "stdout",
     "output_type": "stream",
     "text": [
      "[]\n"
     ]
    }
   ],
   "source": [
    "print(ddd)"
   ]
  },
  {
   "cell_type": "code",
   "execution_count": 25,
   "metadata": {},
   "outputs": [],
   "source": [
    "aaa = np.array([1,2,3,4,5,6,7,8,9,])"
   ]
  },
  {
   "cell_type": "code",
   "execution_count": 26,
   "metadata": {},
   "outputs": [
    {
     "name": "stdout",
     "output_type": "stream",
     "text": [
      "[4 5 6 7 8 9 1 2 3]\n"
     ]
    },
    {
     "data": {
      "text/plain": [
       "array([1, 2, 3])"
      ]
     },
     "execution_count": 26,
     "metadata": {},
     "output_type": "execute_result"
    }
   ],
   "source": [
    "bbb = np.roll(aaa, -3)\n",
    "print(bbb)\n",
    "bbb[-3:]"
   ]
  }
 ],
 "metadata": {
  "kernelspec": {
   "display_name": "Python 3",
   "language": "python",
   "name": "python3"
  },
  "language_info": {
   "codemirror_mode": {
    "name": "ipython",
    "version": 3
   },
   "file_extension": ".py",
   "mimetype": "text/x-python",
   "name": "python",
   "nbconvert_exporter": "python",
   "pygments_lexer": "ipython3",
   "version": "3.7.6"
  }
 },
 "nbformat": 4,
 "nbformat_minor": 4
}
