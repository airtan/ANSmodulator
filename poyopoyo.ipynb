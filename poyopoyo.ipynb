{
 "cells": [
  {
   "cell_type": "code",
   "execution_count": 1,
   "metadata": {},
   "outputs": [],
   "source": [
    "%gui qt"
   ]
  },
  {
   "cell_type": "code",
   "execution_count": 2,
   "metadata": {
    "scrolled": false
   },
   "outputs": [
    {
     "ename": "NameError",
     "evalue": "name 'update' is not defined",
     "output_type": "error",
     "traceback": [
      "\u001b[1;31m---------------------------------------------------------------------------\u001b[0m",
      "\u001b[1;31mNameError\u001b[0m                                 Traceback (most recent call last)",
      "\u001b[1;32m<ipython-input-2-db0591ff7935>\u001b[0m in \u001b[0;36m<module>\u001b[1;34m\u001b[0m\n\u001b[0;32m     46\u001b[0m     \u001b[1;31m#アップデート時間設定\u001b[0m\u001b[1;33m\u001b[0m\u001b[1;33m\u001b[0m\u001b[1;33m\u001b[0m\u001b[0m\n\u001b[0;32m     47\u001b[0m     \u001b[0mtimer\u001b[0m\u001b[1;33m=\u001b[0m\u001b[0mQtCore\u001b[0m\u001b[1;33m.\u001b[0m\u001b[0mQTimer\u001b[0m\u001b[1;33m(\u001b[0m\u001b[1;33m)\u001b[0m\u001b[1;33m\u001b[0m\u001b[1;33m\u001b[0m\u001b[0m\n\u001b[1;32m---> 48\u001b[1;33m     \u001b[0mtimer\u001b[0m\u001b[1;33m.\u001b[0m\u001b[0mtimeout\u001b[0m\u001b[1;33m.\u001b[0m\u001b[0mconnect\u001b[0m\u001b[1;33m(\u001b[0m\u001b[0mupdate\u001b[0m\u001b[1;33m)\u001b[0m\u001b[1;33m\u001b[0m\u001b[1;33m\u001b[0m\u001b[0m\n\u001b[0m\u001b[0;32m     49\u001b[0m     \u001b[0mtimer\u001b[0m\u001b[1;33m.\u001b[0m\u001b[0mstart\u001b[0m\u001b[1;33m(\u001b[0m\u001b[0mupdate_seconds\u001b[0m\u001b[1;33m)\u001b[0m\u001b[1;33m\u001b[0m\u001b[1;33m\u001b[0m\u001b[0m\n\u001b[0;32m     50\u001b[0m     \u001b[0mAudioInput\u001b[0m\u001b[1;33m(\u001b[0m\u001b[1;33m)\u001b[0m\u001b[1;33m\u001b[0m\u001b[1;33m\u001b[0m\u001b[0m\n",
      "\u001b[1;31mNameError\u001b[0m: name 'update' is not defined"
     ]
    }
   ],
   "source": [
    "#プロット関係のライブラリ\n",
    "import pyqtgraph as pg\n",
    "from pyqtgraph.Qt import QtCore, QtGui\n",
    "import numpy as np\n",
    "import sys\n",
    "\n",
    "import serial\n",
    "ser = serial.Serial('COM5', 115200, timeout=1)\n",
    "\n",
    "\n",
    "CHUNK=10            #1度に読み取るデータ幅\n",
    "RATE=160             #サンプリング周波数\n",
    "update_seconds=50      #更新時間[ms]\n",
    "\n",
    "#音声データの格納場所(プロットデータ)\n",
    "data = np.zeros(CHUNK)\n",
    "axis = np.fft.fftfreq(len(data), d=1.0/RATE)\n",
    "\n",
    "#プロット初期設定\n",
    "win=pg.GraphicsWindow()\n",
    "win.setWindowTitle(\"SpectrumAnalyzer\")\n",
    "plt=win.addPlot() #プロットのビジュアル関係\n",
    "# plt.setYRange(0,100)    #y軸の制限\n",
    "plt.plot(x=freq, y=ser.readline(), clear=True)\n",
    "\n",
    "def AudioInput():\n",
    "    a = ser.readline()\n",
    "    moji2 = a.decode('utf-8')\n",
    "    b = moji2.strip()\n",
    "    u = b.replace('\\n', '')\n",
    "    q = float(u)\n",
    "    p = int(q)\n",
    "    ret= p\n",
    "    return ret\n",
    "    \n",
    "def FFT_AMP(data):\n",
    "    data=np.hamming(len(data))*data\n",
    "    data=np.fft.fft(data)\n",
    "    data=np.abs(data)\n",
    "    return data\n",
    "\n",
    "  #プロットデータを格納\n",
    "\n",
    "while True:\n",
    "    \n",
    "    #アップデート時間設定\n",
    "    timer=QtCore.QTimer()\n",
    "    timer.timeout.connect(update)\n",
    "    timer.start(update_seconds) \n",
    "    AudioInput()\n",
    "\n",
    "    \n",
    "    data=np.append(data,AudioInput())\n",
    "    if len(data)/1024 > 10:\n",
    "        data=data[1024:]\n",
    "    fft_data=FFT_AMP(data)\n",
    "    axis=np.fft.fftfreq(len(data), d=1.0/RATE)\n",
    "    plt.plot(x=axis, y=fft_data, clear=True) \n",
    "    \n",
    "\n",
    "ser.close() \n",
    "    \n"
   ]
  },
  {
   "cell_type": "code",
   "execution_count": null,
   "metadata": {},
   "outputs": [],
   "source": [
    "# -*- coding: utf-8 -*-\n",
    "import numpy as np\n",
    "import matplotlib.pyplot as plt\n",
    "\n",
    "# データのパラメータ\n",
    "N = 256            # サンプル数\n",
    "dt = 0.01          # サンプリング間隔\n",
    "f1, f2 = 10, 20    # 周波数\n",
    "t = np.arange(0, N*dt, dt)  # 時間軸\n",
    "freq = np.linspace(0, 1.0/dt, N)  # 周波数軸\n",
    "\n",
    "# 信号を生成（周波数10の正弦波+周波数20の正弦波+ランダムノイズ）\n",
    "f = np.sin(2*np.pi*f1*t) + np.sin(2*np.pi*f2*t) + 0.3 * np.random.randn(N)\n",
    "\n",
    "# 高速フーリエ変換\n",
    "F = np.fft.fft(f)\n",
    "\n",
    "# 振幅スペクトルを計算\n",
    "Amp = np.abs(F)\n",
    "\n",
    "# パワースペクトルの計算（振幅スペクトルの二乗）\n",
    "Pow = Amp ** 2\n",
    "\n",
    "\n",
    "\n",
    "# グラフ表示\n",
    "plt.figure()\n",
    "# plt.rcParams['font.family'] = 'Times New Roman'\n",
    "# plt.rcParams['font.size'] = 17\n",
    "plt.subplot(121)\n",
    "plt.plot(t, f, label='f(n)')\n",
    "plt.xlabel(\"Time\", fontsize=20)\n",
    "plt.ylabel(\"Signal\", fontsize=20)\n",
    "plt.grid()\n",
    "leg = plt.legend(loc=1, fontsize=25)\n",
    "leg.get_frame().set_alpha(1)\n",
    "plt.subplot(122)\n",
    "plt.plot(freq, Pow, label='|F(k)|')\n",
    "plt.xlabel('Frequency', fontsize=20)\n",
    "plt.ylabel('Amplitude', fontsize=20)\n",
    "plt.grid()\n",
    "leg = plt.legend(loc=1, fontsize=25)\n",
    "leg.get_frame().set_alpha(1)\n",
    "plt.show()"
   ]
  },
  {
   "cell_type": "code",
   "execution_count": 1,
   "metadata": {
    "scrolled": false
   },
   "outputs": [
    {
     "ename": "TypeError",
     "evalue": "object of type 'int' has no len()",
     "output_type": "error",
     "traceback": [
      "\u001b[1;31m---------------------------------------------------------------------------\u001b[0m",
      "\u001b[1;31mTypeError\u001b[0m                                 Traceback (most recent call last)",
      "\u001b[1;32m<ipython-input-1-97bf62a19b6d>\u001b[0m in \u001b[0;36m<module>\u001b[1;34m\u001b[0m\n\u001b[0;32m     34\u001b[0m     \u001b[0mp\u001b[0m \u001b[1;33m=\u001b[0m \u001b[0mint\u001b[0m\u001b[1;33m(\u001b[0m\u001b[0mq\u001b[0m\u001b[1;33m)\u001b[0m\u001b[1;33m\u001b[0m\u001b[1;33m\u001b[0m\u001b[0m\n\u001b[0;32m     35\u001b[0m     \u001b[0mret\u001b[0m\u001b[1;33m=\u001b[0m \u001b[0mp\u001b[0m\u001b[1;33m\u001b[0m\u001b[1;33m\u001b[0m\u001b[0m\n\u001b[1;32m---> 36\u001b[1;33m     \u001b[0mplt\u001b[0m\u001b[1;33m.\u001b[0m\u001b[0mplot\u001b[0m\u001b[1;33m(\u001b[0m\u001b[0mx\u001b[0m\u001b[1;33m=\u001b[0m\u001b[0mlen\u001b[0m\u001b[1;33m(\u001b[0m\u001b[0mret\u001b[0m\u001b[1;33m)\u001b[0m\u001b[1;33m,\u001b[0m \u001b[0my\u001b[0m\u001b[1;33m=\u001b[0m\u001b[0mret\u001b[0m\u001b[1;33m,\u001b[0m \u001b[0mclear\u001b[0m\u001b[1;33m=\u001b[0m\u001b[1;32mTrue\u001b[0m\u001b[1;33m)\u001b[0m\u001b[1;33m\u001b[0m\u001b[1;33m\u001b[0m\u001b[0m\n\u001b[0m\u001b[0;32m     37\u001b[0m \u001b[1;33m\u001b[0m\u001b[0m\n",
      "\u001b[1;31mTypeError\u001b[0m: object of type 'int' has no len()"
     ]
    }
   ],
   "source": [
    "#プロット関係のライブラリ\n",
    "%gui qt\n",
    "import pyqtgraph as pg\n",
    "from pyqtgraph.Qt import QtCore, QtGui\n",
    "import numpy as np\n",
    "import sys\n",
    "\n",
    "import serial\n",
    "ser = serial.Serial('COM5', 115200, timeout=1)\n",
    "\n",
    "\n",
    "CHUNK=10            #1度に読み取るデータ幅\n",
    "RATE=160             #サンプリング周波数\n",
    "update_seconds=50      #更新時間[ms]\n",
    "\n",
    "#音声データの格納場所(プロットデータ)\n",
    "data = np.zeros(CHUNK)\n",
    "axis = np.fft.fftfreq(len(data), d=1.0/RATE)\n",
    "\n",
    "#プロット初期設定\n",
    "win=pg.GraphicsWindow()\n",
    "win.setWindowTitle(\"SpectrumAnalyzer\")\n",
    "plt=win.addPlot() #プロットのビジュアル関係\n",
    "# plt.setYRange(0,100)    #y軸の制限\n",
    "\n",
    "g = 0\n",
    "\n",
    "while True:\n",
    "    a = ser.readline()\n",
    "    moji2 = a.decode('utf-8')\n",
    "    b = moji2.strip()\n",
    "    u = b.replace('\\n', '')\n",
    "    q = float(u)\n",
    "    p = int(q)\n",
    "    ret= p\n",
    "    \n",
    "\n"
   ]
  },
  {
   "cell_type": "code",
   "execution_count": null,
   "metadata": {},
   "outputs": [],
   "source": [
    "# Import libraries\n",
    "from numpy import *\n",
    "from pyqtgraph.Qt import QtGui, QtCore\n",
    "import pyqtgraph as pg\n",
    "import serial\n",
    "\n",
    "# Create object serial port\n",
    "portName = \"COM5\"                      # replace this port name by yours!\n",
    "baudrate = 115200\n",
    "ser = serial.Serial(portName,baudrate)\n",
    "\n",
    "### START QtApp #####\n",
    "app = QtGui.QApplication([])            # you MUST do this once (initialize things)\n",
    "####################\n",
    "\n",
    "win = pg.GraphicsWindow(title=\"Signal from serial port\") # creates a window\n",
    "p = win.addPlot(title=\"Realtime plot\")  # creates empty space for the plot in the window\n",
    "curve = p.plot()                        # create an empty \"plot\" (a curve to plot)\n",
    "\n",
    "windowWidth = 500                       # width of the window displaying the curve\n",
    "Xm = linspace(0,0,windowWidth)          # create array that will contain the relevant time series     \n",
    "ptr = -windowWidth                      # set first x position\n",
    "\n",
    "# Realtime data plot. Each time this function is called, the data display is updated\n",
    "def update():\n",
    "    global curve, ptr, Xm    \n",
    "    Xm[:-1] = Xm[1:]                      # shift data in the temporal mean 1 sample left\n",
    "    value = ser.readline()                # read line (single value) from the serial port\n",
    "    Xm[-1] = float(value)                 # vector containing the instantaneous values      \n",
    "    ptr += 1                              # update x position for displaying the curve\n",
    "    curve.setData(Xm)                     # set the curve with this data\n",
    "    curve.setPos(ptr,0)                   # set x position in the graph to 0\n",
    "    QtGui.QApplication.processEvents()    # you MUST process the plot now\n",
    "\n",
    "### MAIN PROGRAM #####    \n",
    "# this is a brutal infinite loop calling your realtime data plot\n",
    "while True: update()\n",
    "\n",
    "### END QtApp ####\n",
    "pg.QtGui.QApplication.exec_() # you MUST put this at the end\n",
    "##################"
   ]
  },
  {
   "cell_type": "code",
   "execution_count": 2,
   "metadata": {},
   "outputs": [],
   "source": [
    "poyo = [\"a\",\"b\",\"c\"]"
   ]
  },
  {
   "cell_type": "code",
   "execution_count": 3,
   "metadata": {},
   "outputs": [],
   "source": [
    "poyo[:-1] = poyo[1:]"
   ]
  },
  {
   "cell_type": "code",
   "execution_count": 4,
   "metadata": {},
   "outputs": [
    {
     "data": {
      "text/plain": [
       "['b', 'c', 'c']"
      ]
     },
     "execution_count": 4,
     "metadata": {},
     "output_type": "execute_result"
    }
   ],
   "source": [
    "poyo"
   ]
  },
  {
   "cell_type": "code",
   "execution_count": null,
   "metadata": {},
   "outputs": [],
   "source": []
  }
 ],
 "metadata": {
  "kernelspec": {
   "display_name": "Python 3",
   "language": "python",
   "name": "python3"
  },
  "language_info": {
   "codemirror_mode": {
    "name": "ipython",
    "version": 3
   },
   "file_extension": ".py",
   "mimetype": "text/x-python",
   "name": "python",
   "nbconvert_exporter": "python",
   "pygments_lexer": "ipython3",
   "version": "3.7.6"
  }
 },
 "nbformat": 4,
 "nbformat_minor": 4
}
