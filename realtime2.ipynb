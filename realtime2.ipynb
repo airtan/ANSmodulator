{
 "cells": [
  {
   "cell_type": "code",
   "execution_count": 47,
   "metadata": {},
   "outputs": [
    {
     "ename": "SyntaxError",
     "evalue": "import * only allowed at module level (<ipython-input-47-6ec2fd1d9fd5>, line 2)",
     "output_type": "error",
     "traceback": [
      "\u001b[1;36m  File \u001b[1;32m\"<ipython-input-47-6ec2fd1d9fd5>\"\u001b[1;36m, line \u001b[1;32m2\u001b[0m\n\u001b[1;33m    import scipy\u001b[0m\n\u001b[1;37m                ^\u001b[0m\n\u001b[1;31mSyntaxError\u001b[0m\u001b[1;31m:\u001b[0m import * only allowed at module level\n"
     ]
    }
   ],
   "source": [
    "import numpy as np\n",
    "import scipy\n",
    "import matplotlib.pyplot as plt\n",
    "import serial\n",
    "from spectrum import *\n",
    "import pyqtgraph as pg\n",
    "from pyqtgraph.Qt import QtGui, QtCore\n",
    "\n",
    "# Create object serial port\n",
    "portName = \"COM5\"                      # replace this port name by yours!\n",
    "baudrate = 115200\n",
    "# ser = serial.Serial(portName,baudrate)\n",
    "\n",
    "fftLen = 2048\n",
    "shift = 100\n",
    "signal_scale = 1. / 2000\n",
    "\n",
    "capture_setting = {\n",
    "    \"ch\" : 1,\n",
    "    \"fs\" : 16000,\n",
    "    \"chunk\" : shift\n",
    "    }\n",
    "\n",
    "\n",
    "global fftLen, capture_setting, signal_scale\n",
    "\n",
    "\n",
    "\n",
    "# ========\n",
    "#  Layout\n",
    "# ========\n",
    "\n",
    "### アプリケーション作成\n",
    "app = QtGui.QApplication([])\n",
    "app.quitOnLastWindowClosed()\n",
    "### メインウィンドウ\n",
    "mainWindow = QtGui.QMainWindow()\n",
    "mainWindow.setWindowTitle(\"Spectrum Analyzer\") # Title\n",
    "mainWindow.resize(800, 300) # Size\n",
    "### キャンパス\n",
    "centralWid = QtGui.QWidget()\n",
    "mainWindow.setCentralWidget(centralWid)\n",
    "### レイアウト！！\n",
    "lay = QtGui.QVBoxLayout()\n",
    "centralWid.setLayout(lay)\n",
    "\n",
    "### スペクトル表示用ウィジット\n",
    "specWid = pg.PlotWidget(name=\"spectrum\")\n",
    "specItem = specWid.getPlotItem()\n",
    "specItem.setMouseEnabled(y = False) # y軸方向に動かせなくする\n",
    "specItem.setYRange(0, 1000)\n",
    "specItem.setXRange(0, fftLen / 2, padding = 0)\n",
    "### Axis\n",
    "specAxis = specItem.getAxis(\"bottom\")\n",
    "specAxis.setLabel(\"Frequency [Hz]\")\n",
    "specAxis.setScale(fs / 2. / (fftLen / 2 + 1))\n",
    "hz_interval = 500\n",
    "newXAxis = (arange(int(fs / 2 / hz_interval)) + 1) * hz_interval\n",
    "oriXAxis = newXAxis / (fs / 2. / (fftLen / 2 + 1))\n",
    "specAxis.setTicks([zip(oriXAxis, newXAxis)])\n",
    "### キャンパスにのせる\n",
    "lay.addWidget(specWid)\n",
    "\n",
    "### ウィンドウ表示\n",
    "mainWindow.show()\n",
    "\n",
    "### Update\n",
    "\n",
    "###まず100個データを集める\n",
    "count = 0\n",
    "\n",
    "data = np.zeros(0)\n",
    "\n",
    "while count == 100:\n",
    "#         value = ser.readline()\n",
    "#         data = np.append(data,int(value))\n",
    "    data = np.array([875, 849, 848, 1700, 841, 861, 855, 865, 860, 876, 882, 874, 865, 879, 862, 916, 881, 875, 885, 878, 859, 897, 880, 845, 901, 1759, 898, 900, 857, 881, 868, 856, 880, 863, 856, 880, 878, 844, 877, 864, 843, 858, 878, 865, 855, 879, 917, 882, 938, 884, 975, 926, 914, 942, 961, 915, 942, 901, 920, 920, 881, 940, 925, 875, 1777, 879, 891, 910, 865, 898, 921, 922, 914, 923, 901, 883, 933, 484, 399, 1798, 926, 877, 921, 977, 898, 923, 939, 945, 920, 954, 948, 998, 975, 901, 942, 945, 915, 1815, 864, 918])\n",
    "#         print(data)\n",
    "    count += 1\n",
    "\n",
    "while 1:\n",
    "    if len(data) == 100:\n",
    "        AR, P, k  = arburg(data, 8)\n",
    "        BBB = arma2psd(AR,sides='centerdc')\n",
    "        PSD = BBB[2048:4096]\n",
    "        y = 10*log10(PSD/max(PSD))\n",
    "        specItem.plot(y, clear = True)\n",
    "        QtGui.QApplication.processEvents()\n",
    "break\n",
    "\n",
    "\n",
    "\n",
    "\n",
    "\n",
    "# AR, P, k  = arburg(data, 8)\n",
    "# BBB = arma2psd(AR,sides='centerdc')\n",
    "# PSD = BBB[2048:4096]\n",
    "# y = 10*log10(PSD/max(PSD))\n",
    "\n",
    "# plt.axis([0,0.4,-55,-30])\n",
    "# plt.grid()\n",
    "# plt.plot(linspace(0, 0.5, len(PSD)), y)\n",
    "\n",
    "\n",
    "        \n",
    "    \n",
    "\n",
    "# ser.close()"
   ]
  },
  {
   "cell_type": "code",
   "execution_count": 6,
   "metadata": {},
   "outputs": [],
   "source": [
    "ser.close()"
   ]
  },
  {
   "cell_type": "code",
   "execution_count": 34,
   "metadata": {},
   "outputs": [
    {
     "name": "stdout",
     "output_type": "stream",
     "text": [
      "[875, 849, 848, 1700, 841, 861, 855, 865, 860, 876, 882, 874, 865, 879, 862, 916, 881, 875, 885, 878, 859, 897, 880, 845, 901, 1759, 898, 900, 857, 881, 868, 856, 880, 863, 856, 880, 878, 844, 877, 864, 843, 858, 878, 865, 855, 879, 917, 882, 938, 884, 975, 926, 914, 942, 961, 915, 942, 901, 920, 920, 881, 940, 925, 875, 1777, 879, 891, 910, 865, 898, 921, 922, 914, 923, 901, 883, 933, 484, 399, 1798, 926, 877, 921, 977, 898, 923, 939, 945, 920, 954, 948, 998, 975, 901, 942, 945, 915, 1815, 864, 918]\n",
      "[4.10503335e+04 1.08148956e+04 3.36959126e+03 ... 1.01644306e+00\n",
      " 1.01651202e+00 1.01655340e+00]\n"
     ]
    },
    {
     "data": {
      "text/plain": [
       "[<matplotlib.lines.Line2D at 0x2bbff332608>]"
      ]
     },
     "execution_count": 34,
     "metadata": {},
     "output_type": "execute_result"
    },
    {
     "data": {
      "image/png": "[encoded data removed]",
      "text/plain": [
       "<Figure size 432x288 with 1 Axes>"
      ]
     },
     "metadata": {
      "needs_background": "light"
     },
     "output_type": "display_data"
    }
   ],
   "source": [
    "# \n",
    "# l_n=list(map(int,data))\n",
    "print(data)\n",
    "\n",
    "data = l_n\n",
    "\n",
    "AR, P, k = arburg(data, 8)\n",
    "BBB = arma2psd(AR,sides='centerdc')\n",
    "PSD = BBB[2048:4096]\n",
    "y = 10*log10(PSD/max(PSD))+73\n",
    "print(PSD)\n",
    "\n",
    "plt.axis([0,0.4,10,50])\n",
    "plt.plot(linspace(0, 0.4,len(PSD)), y)"
   ]
  },
  {
   "cell_type": "code",
   "execution_count": 40,
   "metadata": {},
   "outputs": [],
   "source": [
    "d = np.array([875, 849, 848, 1700, 841, 861, 855, 865, 860, 876, 882, 874, 865, 879, 862, 916, 881, 875, 885, 878, 859, 897, 880, 845, 901, 1759, 898, 900, 857, 881, 868, 856, 880, 863, 856, 880, 878, 844, 877, 864, 843, 858, 878, 865, 855, 879, 917, 882, 938, 884, 975, 926, 914, 942, 961, 915, 942, 901, 920, 920, 881, 940, 925, 875, 1777, 879, 891, 910, 865, 898, 921, 922, 914, 923, 901, 883, 933, 484, 399, 1798, 926, 877, 921, 977, 898, 923, 939, 945, 920, 954, 948, 998, 975, 901, 942, 945, 915, 1815, 864, 918])"
   ]
  },
  {
   "cell_type": "code",
   "execution_count": 41,
   "metadata": {},
   "outputs": [
    {
     "data": {
      "text/plain": [
       "array([ 875,  849,  848, 1700,  841,  861,  855,  865,  860,  876,  882,\n",
       "        874,  865,  879,  862,  916,  881,  875,  885,  878,  859,  897,\n",
       "        880,  845,  901, 1759,  898,  900,  857,  881,  868,  856,  880,\n",
       "        863,  856,  880,  878,  844,  877,  864,  843,  858,  878,  865,\n",
       "        855,  879,  917,  882,  938,  884,  975,  926,  914,  942,  961,\n",
       "        915,  942,  901,  920,  920,  881,  940,  925,  875, 1777,  879,\n",
       "        891,  910,  865,  898,  921,  922,  914,  923,  901,  883,  933,\n",
       "        484,  399, 1798,  926,  877,  921,  977,  898,  923,  939,  945,\n",
       "        920,  954,  948,  998,  975,  901,  942,  945,  915, 1815,  864,\n",
       "        918])"
      ]
     },
     "execution_count": 41,
     "metadata": {},
     "output_type": "execute_result"
    }
   ],
   "source": [
    "d"
   ]
  },
  {
   "cell_type": "code",
   "execution_count": null,
   "metadata": {},
   "outputs": [],
   "source": []
  }
 ],
 "metadata": {
  "kernelspec": {
   "display_name": "Python 3",
   "language": "python",
   "name": "python3"
  },
  "language_info": {
   "codemirror_mode": {
    "name": "ipython",
    "version": 3
   },
   "file_extension": ".py",
   "mimetype": "text/x-python",
   "name": "python",
   "nbconvert_exporter": "python",
   "pygments_lexer": "ipython3",
   "version": "3.7.6"
  }
 },
 "nbformat": 4,
 "nbformat_minor": 4
}
