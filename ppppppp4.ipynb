{
 "cells": [
  {
   "cell_type": "code",
   "execution_count": 1,
   "metadata": {},
   "outputs": [
    {
     "name": "stdout",
     "output_type": "stream",
     "text": [
      "[910.]\n",
      "[828100.]\n",
      "[882.]\n",
      "[777924.]\n",
      "[904.]\n",
      "[817216.]\n",
      "[894.]\n",
      "[799236.]\n",
      "[883.]\n",
      "[779689.]\n",
      "[892.]\n",
      "[795664.]\n",
      "[895.]\n",
      "[801025.]\n",
      "[847.]\n",
      "[717409.]\n",
      "[878.]\n",
      "[770884.]\n",
      "[905.]\n",
      "[819025.]\n",
      "[898.]\n",
      "[806404.]\n",
      "[885.]\n",
      "[783225.]\n",
      "[881.]\n",
      "[776161.]\n",
      "[892.]\n",
      "[795664.]\n",
      "[915.]\n",
      "[837225.]\n",
      "[865.]\n",
      "[748225.]\n",
      "[902.]\n",
      "[813604.]\n",
      "[900.]\n",
      "[810000.]\n",
      "[860.]\n",
      "[739600.]\n",
      "[874.]\n",
      "[763876.]\n",
      "[905.]\n",
      "[819025.]\n",
      "[945.]\n",
      "[893025.]\n",
      "[930.]\n",
      "[864900.]\n",
      "[906.]\n",
      "[820836.]\n",
      "[975.]\n",
      "[950625.]\n",
      "[973.]\n",
      "[946729.]\n",
      "[888.]\n",
      "[788544.]\n",
      "[929.]\n",
      "[863041.]\n",
      "[973.]\n",
      "[946729.]\n"
     ]
    },
    {
     "ename": "KeyboardInterrupt",
     "evalue": "",
     "output_type": "error",
     "traceback": [
      "\u001b[1;31m---------------------------------------------------------------------------\u001b[0m",
      "\u001b[1;31mKeyboardInterrupt\u001b[0m                         Traceback (most recent call last)",
      "\u001b[1;32m<ipython-input-1-33933dd89a0e>\u001b[0m in \u001b[0;36m<module>\u001b[1;34m\u001b[0m\n\u001b[0;32m     51\u001b[0m \u001b[1;31m### MAIN PROGRAM #####\u001b[0m\u001b[1;33m\u001b[0m\u001b[1;33m\u001b[0m\u001b[1;33m\u001b[0m\u001b[0m\n\u001b[0;32m     52\u001b[0m \u001b[1;31m# this is a brutal infinite loop calling your realtime data plot\u001b[0m\u001b[1;33m\u001b[0m\u001b[1;33m\u001b[0m\u001b[1;33m\u001b[0m\u001b[0m\n\u001b[1;32m---> 53\u001b[1;33m \u001b[1;32mwhile\u001b[0m \u001b[1;32mTrue\u001b[0m\u001b[1;33m:\u001b[0m \u001b[0mupdate\u001b[0m\u001b[1;33m(\u001b[0m\u001b[1;33m)\u001b[0m\u001b[1;33m\u001b[0m\u001b[1;33m\u001b[0m\u001b[0m\n\u001b[0m\u001b[0;32m     54\u001b[0m \u001b[1;33m\u001b[0m\u001b[0m\n\u001b[0;32m     55\u001b[0m \u001b[1;31m### END QtApp ####\u001b[0m\u001b[1;33m\u001b[0m\u001b[1;33m\u001b[0m\u001b[1;33m\u001b[0m\u001b[0m\n",
      "\u001b[1;32m<ipython-input-1-33933dd89a0e>\u001b[0m in \u001b[0;36mupdate\u001b[1;34m()\u001b[0m\n\u001b[0;32m     32\u001b[0m     \u001b[1;32mglobal\u001b[0m \u001b[0mcurve\u001b[0m\u001b[1;33m,\u001b[0m \u001b[0mptr\u001b[0m\u001b[1;33m,\u001b[0m \u001b[0mXm\u001b[0m\u001b[1;33m\u001b[0m\u001b[1;33m\u001b[0m\u001b[0m\n\u001b[0;32m     33\u001b[0m \u001b[1;31m#     Xm[:-1] = Xm[1:]                      # shift data in the temporal mean 1 sample left\u001b[0m\u001b[1;33m\u001b[0m\u001b[1;33m\u001b[0m\u001b[1;33m\u001b[0m\u001b[0m\n\u001b[1;32m---> 34\u001b[1;33m     \u001b[0mvalue\u001b[0m \u001b[1;33m=\u001b[0m \u001b[0mser\u001b[0m\u001b[1;33m.\u001b[0m\u001b[0mreadline\u001b[0m\u001b[1;33m(\u001b[0m\u001b[1;33m)\u001b[0m                \u001b[1;31m# read line (single value) from the serial port\u001b[0m\u001b[1;33m\u001b[0m\u001b[1;33m\u001b[0m\u001b[0m\n\u001b[0m\u001b[0;32m     35\u001b[0m     \u001b[0mf\u001b[0m \u001b[1;33m=\u001b[0m \u001b[0mfloat\u001b[0m\u001b[1;33m(\u001b[0m\u001b[0mvalue\u001b[0m\u001b[1;33m)\u001b[0m\u001b[1;33m\u001b[0m\u001b[1;33m\u001b[0m\u001b[0m\n\u001b[0;32m     36\u001b[0m     \u001b[0mpoyo\u001b[0m \u001b[1;33m=\u001b[0m \u001b[0mnp\u001b[0m\u001b[1;33m.\u001b[0m\u001b[0mappend\u001b[0m\u001b[1;33m(\u001b[0m\u001b[0mdata\u001b[0m\u001b[1;33m,\u001b[0m \u001b[0mf\u001b[0m\u001b[1;33m)\u001b[0m\u001b[1;33m\u001b[0m\u001b[1;33m\u001b[0m\u001b[0m\n",
      "\u001b[1;32mC:\\ProgramData\\Anaconda3\\lib\\site-packages\\serial\\serialwin32.py\u001b[0m in \u001b[0;36mread\u001b[1;34m(self, size)\u001b[0m\n\u001b[0;32m    288\u001b[0m                     \u001b[0mctypes\u001b[0m\u001b[1;33m.\u001b[0m\u001b[0mbyref\u001b[0m\u001b[1;33m(\u001b[0m\u001b[0mself\u001b[0m\u001b[1;33m.\u001b[0m\u001b[0m_overlapped_read\u001b[0m\u001b[1;33m)\u001b[0m\u001b[1;33m,\u001b[0m\u001b[1;33m\u001b[0m\u001b[1;33m\u001b[0m\u001b[0m\n\u001b[0;32m    289\u001b[0m                     \u001b[0mctypes\u001b[0m\u001b[1;33m.\u001b[0m\u001b[0mbyref\u001b[0m\u001b[1;33m(\u001b[0m\u001b[0mrc\u001b[0m\u001b[1;33m)\u001b[0m\u001b[1;33m,\u001b[0m\u001b[1;33m\u001b[0m\u001b[1;33m\u001b[0m\u001b[0m\n\u001b[1;32m--> 290\u001b[1;33m                     True)\n\u001b[0m\u001b[0;32m    291\u001b[0m                 \u001b[1;32mif\u001b[0m \u001b[1;32mnot\u001b[0m \u001b[0mresult_ok\u001b[0m\u001b[1;33m:\u001b[0m\u001b[1;33m\u001b[0m\u001b[1;33m\u001b[0m\u001b[0m\n\u001b[0;32m    292\u001b[0m                     \u001b[1;32mif\u001b[0m \u001b[0mwin32\u001b[0m\u001b[1;33m.\u001b[0m\u001b[0mGetLastError\u001b[0m\u001b[1;33m(\u001b[0m\u001b[1;33m)\u001b[0m \u001b[1;33m!=\u001b[0m \u001b[0mwin32\u001b[0m\u001b[1;33m.\u001b[0m\u001b[0mERROR_OPERATION_ABORTED\u001b[0m\u001b[1;33m:\u001b[0m\u001b[1;33m\u001b[0m\u001b[1;33m\u001b[0m\u001b[0m\n",
      "\u001b[1;31mKeyboardInterrupt\u001b[0m: "
     ]
    }
   ],
   "source": [
    "# Import libraries\n",
    "from numpy import *\n",
    "import numpy as np\n",
    "from pyqtgraph.Qt import QtGui, QtCore\n",
    "import pyqtgraph as pg\n",
    "import serial\n",
    "\n",
    "# Create object serial port\n",
    "portName = \"COM5\"                      # replace this port name by yours!\n",
    "baudrate = 115200\n",
    "ser = serial.Serial(portName,baudrate)\n",
    "\n",
    "### START QtApp #####\n",
    "app = QtGui.QApplication([])            # you MUST do this once (initialize things)\n",
    "####################\n",
    "\n",
    "win = pg.GraphicsWindow(title=\"Signal from serial port\") # creates a window\n",
    "p = win.addPlot(title=\"Realtime plot\")  # creates empty space for the plot in the window\n",
    "curve = p.plot()                        # create an empty \"plot\" (a curve to plot)\n",
    "# p.setYRange(0,1000000)\n",
    "\n",
    "windowWidth = 500                       # width of the window displaying the curve\n",
    "Xm = linspace(0,0,windowWidth)          # create array that will contain the relevant time series     \n",
    "# ptr = -windowWidth                      # set first x position\n",
    "ptr = 0\n",
    "data = np.zeros(0)\n",
    "\n",
    "# print('poyoooo')\n",
    "\n",
    "# Realtime data plot. Each time this function is called, the data display is updated\n",
    "def update():\n",
    "    global curve, ptr, Xm    \n",
    "#     Xm[:-1] = Xm[1:]                      # shift data in the temporal mean 1 sample left\n",
    "    value = ser.readline()                # read line (single value) from the serial port\n",
    "    f = float(value)\n",
    "    poyo = np.append(data, f)\n",
    "    print(poyo)\n",
    "#     print(Xm)\n",
    "    F = np.fft.fft(poyo)\n",
    "    Amp = np.abs(F)\n",
    "    Pow = Amp ** 2\n",
    "    print(Pow)\n",
    "#     print('hello')\n",
    "#     Xm[-1] = F                            # vector containing the instantaneous values      \n",
    "    ptr += 1                              # update x position for displaying the curve\n",
    "#     curve.setData(Pow)                     # set the curve with this data\n",
    "    p.plot(x=Pow, y=Pow, clear=True, pen=\"y\") \n",
    "    curve.setPos(ptr,0)                   # set x position in the graph to 0\n",
    "    QtGui.QApplication.processEvents()    # you MUST process the plot now\n",
    "\n",
    "### MAIN PROGRAM #####    \n",
    "# this is a brutal infinite loop calling your realtime data plot\n",
    "while True: update()\n",
    "\n",
    "### END QtApp ####\n",
    "pg.QtGui.QApplication.exec_() # you MUST put this at the end\n",
    "##################"
   ]
  },
  {
   "cell_type": "code",
   "execution_count": 1,
   "metadata": {},
   "outputs": [
    {
     "name": "stdout",
     "output_type": "stream",
     "text": [
      "hello\n"
     ]
    }
   ],
   "source": [
    "print('hello')"
   ]
  },
  {
   "cell_type": "code",
   "execution_count": null,
   "metadata": {},
   "outputs": [],
   "source": []
  }
 ],
 "metadata": {
  "kernelspec": {
   "display_name": "Python 3",
   "language": "python",
   "name": "python3"
  },
  "language_info": {
   "codemirror_mode": {
    "name": "ipython",
    "version": 3
   },
   "file_extension": ".py",
   "mimetype": "text/x-python",
   "name": "python",
   "nbconvert_exporter": "python",
   "pygments_lexer": "ipython3",
   "version": "3.7.6"
  }
 },
 "nbformat": 4,
 "nbformat_minor": 4
}
